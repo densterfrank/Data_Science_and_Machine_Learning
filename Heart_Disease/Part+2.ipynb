{
 "cells": [
  {
   "cell_type": "markdown",
   "id": "ff3b85d1",
   "metadata": {},
   "source": [
    "--------------------------------------------------- Part 2 -----------------------------------------30 Marks"
   ]
  },
  {
   "cell_type": "code",
   "execution_count": 70,
   "id": "3a0ce1c1",
   "metadata": {},
   "outputs": [],
   "source": [
    "import pandas as pd\n",
    "from sklearn.linear_model import LogisticRegression\n",
    "\n",
    "# importing ploting libraries\n",
    "import matplotlib.pyplot as plt   \n",
    "\n",
    "#importing seaborn for statistical plots\n",
    "import seaborn as sns\n",
    "\n",
    "\n",
    "\n",
    "from sklearn.model_selection import train_test_split\n",
    "\n",
    "import numpy as np\n",
    "import os,sys\n",
    "from sklearn import svm\n",
    "from sklearn.neighbors import KNeighborsClassifier\n",
    "\n",
    "# calculate accuracy measures and confusion matrix\n",
    "from sklearn import metrics"
   ]
  },
  {
   "cell_type": "markdown",
   "id": "934e4929",
   "metadata": {},
   "source": [
    "## Read both the Datasets ‘Data1’ and ‘Data 2’ as DataFrame and store them into two separate"
   ]
  },
  {
   "cell_type": "code",
   "execution_count": 71,
   "id": "909e14a3",
   "metadata": {},
   "outputs": [],
   "source": [
    "df_1 = pd.read_csv(\"Data1.csv\")\n",
    "df_2= pd.read_csv(\"Data2.csv\")"
   ]
  },
  {
   "cell_type": "code",
   "execution_count": 72,
   "id": "d0859393",
   "metadata": {},
   "outputs": [
    {
     "data": {
      "text/html": [
       "<div>\n",
       "<style scoped>\n",
       "    .dataframe tbody tr th:only-of-type {\n",
       "        vertical-align: middle;\n",
       "    }\n",
       "\n",
       "    .dataframe tbody tr th {\n",
       "        vertical-align: top;\n",
       "    }\n",
       "\n",
       "    .dataframe thead th {\n",
       "        text-align: right;\n",
       "    }\n",
       "</style>\n",
       "<table border=\"1\" class=\"dataframe\">\n",
       "  <thead>\n",
       "    <tr style=\"text-align: right;\">\n",
       "      <th></th>\n",
       "      <th>ID</th>\n",
       "      <th>Age</th>\n",
       "      <th>CustomerSince</th>\n",
       "      <th>HighestSpend</th>\n",
       "      <th>ZipCode</th>\n",
       "      <th>HiddenScore</th>\n",
       "      <th>MonthlyAverageSpend</th>\n",
       "      <th>Level</th>\n",
       "    </tr>\n",
       "  </thead>\n",
       "  <tbody>\n",
       "    <tr>\n",
       "      <th>0</th>\n",
       "      <td>1</td>\n",
       "      <td>25</td>\n",
       "      <td>1</td>\n",
       "      <td>49</td>\n",
       "      <td>91107</td>\n",
       "      <td>4</td>\n",
       "      <td>1.6</td>\n",
       "      <td>1</td>\n",
       "    </tr>\n",
       "    <tr>\n",
       "      <th>1</th>\n",
       "      <td>2</td>\n",
       "      <td>45</td>\n",
       "      <td>19</td>\n",
       "      <td>34</td>\n",
       "      <td>90089</td>\n",
       "      <td>3</td>\n",
       "      <td>1.5</td>\n",
       "      <td>1</td>\n",
       "    </tr>\n",
       "    <tr>\n",
       "      <th>2</th>\n",
       "      <td>3</td>\n",
       "      <td>39</td>\n",
       "      <td>15</td>\n",
       "      <td>11</td>\n",
       "      <td>94720</td>\n",
       "      <td>1</td>\n",
       "      <td>1.0</td>\n",
       "      <td>1</td>\n",
       "    </tr>\n",
       "    <tr>\n",
       "      <th>3</th>\n",
       "      <td>4</td>\n",
       "      <td>35</td>\n",
       "      <td>9</td>\n",
       "      <td>100</td>\n",
       "      <td>94112</td>\n",
       "      <td>1</td>\n",
       "      <td>2.7</td>\n",
       "      <td>2</td>\n",
       "    </tr>\n",
       "    <tr>\n",
       "      <th>4</th>\n",
       "      <td>5</td>\n",
       "      <td>35</td>\n",
       "      <td>8</td>\n",
       "      <td>45</td>\n",
       "      <td>91330</td>\n",
       "      <td>4</td>\n",
       "      <td>1.0</td>\n",
       "      <td>2</td>\n",
       "    </tr>\n",
       "  </tbody>\n",
       "</table>\n",
       "</div>"
      ],
      "text/plain": [
       "   ID  Age  CustomerSince  HighestSpend  ZipCode  HiddenScore  \\\n",
       "0   1   25              1            49    91107            4   \n",
       "1   2   45             19            34    90089            3   \n",
       "2   3   39             15            11    94720            1   \n",
       "3   4   35              9           100    94112            1   \n",
       "4   5   35              8            45    91330            4   \n",
       "\n",
       "   MonthlyAverageSpend  Level  \n",
       "0                  1.6      1  \n",
       "1                  1.5      1  \n",
       "2                  1.0      1  \n",
       "3                  2.7      2  \n",
       "4                  1.0      2  "
      ]
     },
     "execution_count": 72,
     "metadata": {},
     "output_type": "execute_result"
    }
   ],
   "source": [
    "df_1.head()"
   ]
  },
  {
   "cell_type": "code",
   "execution_count": 73,
   "id": "873ddc8b",
   "metadata": {},
   "outputs": [
    {
     "data": {
      "text/html": [
       "<div>\n",
       "<style scoped>\n",
       "    .dataframe tbody tr th:only-of-type {\n",
       "        vertical-align: middle;\n",
       "    }\n",
       "\n",
       "    .dataframe tbody tr th {\n",
       "        vertical-align: top;\n",
       "    }\n",
       "\n",
       "    .dataframe thead th {\n",
       "        text-align: right;\n",
       "    }\n",
       "</style>\n",
       "<table border=\"1\" class=\"dataframe\">\n",
       "  <thead>\n",
       "    <tr style=\"text-align: right;\">\n",
       "      <th></th>\n",
       "      <th>ID</th>\n",
       "      <th>Mortgage</th>\n",
       "      <th>Security</th>\n",
       "      <th>FixedDepositAccount</th>\n",
       "      <th>InternetBanking</th>\n",
       "      <th>CreditCard</th>\n",
       "      <th>LoanOnCard</th>\n",
       "    </tr>\n",
       "  </thead>\n",
       "  <tbody>\n",
       "    <tr>\n",
       "      <th>0</th>\n",
       "      <td>1</td>\n",
       "      <td>0</td>\n",
       "      <td>1</td>\n",
       "      <td>0</td>\n",
       "      <td>0</td>\n",
       "      <td>0</td>\n",
       "      <td>NaN</td>\n",
       "    </tr>\n",
       "    <tr>\n",
       "      <th>1</th>\n",
       "      <td>2</td>\n",
       "      <td>0</td>\n",
       "      <td>1</td>\n",
       "      <td>0</td>\n",
       "      <td>0</td>\n",
       "      <td>0</td>\n",
       "      <td>NaN</td>\n",
       "    </tr>\n",
       "    <tr>\n",
       "      <th>2</th>\n",
       "      <td>3</td>\n",
       "      <td>0</td>\n",
       "      <td>0</td>\n",
       "      <td>0</td>\n",
       "      <td>0</td>\n",
       "      <td>0</td>\n",
       "      <td>NaN</td>\n",
       "    </tr>\n",
       "    <tr>\n",
       "      <th>3</th>\n",
       "      <td>4</td>\n",
       "      <td>0</td>\n",
       "      <td>0</td>\n",
       "      <td>0</td>\n",
       "      <td>0</td>\n",
       "      <td>0</td>\n",
       "      <td>NaN</td>\n",
       "    </tr>\n",
       "    <tr>\n",
       "      <th>4</th>\n",
       "      <td>5</td>\n",
       "      <td>0</td>\n",
       "      <td>0</td>\n",
       "      <td>0</td>\n",
       "      <td>0</td>\n",
       "      <td>1</td>\n",
       "      <td>NaN</td>\n",
       "    </tr>\n",
       "  </tbody>\n",
       "</table>\n",
       "</div>"
      ],
      "text/plain": [
       "   ID  Mortgage  Security  FixedDepositAccount  InternetBanking  CreditCard  \\\n",
       "0   1         0         1                    0                0           0   \n",
       "1   2         0         1                    0                0           0   \n",
       "2   3         0         0                    0                0           0   \n",
       "3   4         0         0                    0                0           0   \n",
       "4   5         0         0                    0                0           1   \n",
       "\n",
       "   LoanOnCard  \n",
       "0         NaN  \n",
       "1         NaN  \n",
       "2         NaN  \n",
       "3         NaN  \n",
       "4         NaN  "
      ]
     },
     "execution_count": 73,
     "metadata": {},
     "output_type": "execute_result"
    }
   ],
   "source": [
    "df_2.head()"
   ]
  },
  {
   "cell_type": "markdown",
   "id": "16153ddb",
   "metadata": {},
   "source": [
    "##  Data1 & Date 2 has different set of columns, we need to combaine both data columns with ID features"
   ]
  },
  {
   "cell_type": "markdown",
   "id": "7eff4ad4",
   "metadata": {},
   "source": [
    "##  Print shape and Column Names and DataTypes of both the Dataframes"
   ]
  },
  {
   "cell_type": "code",
   "execution_count": 74,
   "id": "4ef1b33b",
   "metadata": {},
   "outputs": [
    {
     "data": {
      "text/plain": [
       "(5000, 8)"
      ]
     },
     "execution_count": 74,
     "metadata": {},
     "output_type": "execute_result"
    }
   ],
   "source": [
    "df_1.shape"
   ]
  },
  {
   "cell_type": "code",
   "execution_count": 75,
   "id": "696c1a3b",
   "metadata": {},
   "outputs": [
    {
     "data": {
      "text/plain": [
       "Index(['ID', 'Age', 'CustomerSince', 'HighestSpend', 'ZipCode', 'HiddenScore',\n",
       "       'MonthlyAverageSpend', 'Level'],\n",
       "      dtype='object')"
      ]
     },
     "execution_count": 75,
     "metadata": {},
     "output_type": "execute_result"
    }
   ],
   "source": [
    "df_1.columns"
   ]
  },
  {
   "cell_type": "code",
   "execution_count": 76,
   "id": "85f3835a",
   "metadata": {},
   "outputs": [
    {
     "data": {
      "text/plain": [
       "(5000, 7)"
      ]
     },
     "execution_count": 76,
     "metadata": {},
     "output_type": "execute_result"
    }
   ],
   "source": [
    "df_2.shape"
   ]
  },
  {
   "cell_type": "code",
   "execution_count": 77,
   "id": "b60b0070",
   "metadata": {},
   "outputs": [
    {
     "data": {
      "text/plain": [
       "Index(['ID', 'Mortgage', 'Security', 'FixedDepositAccount', 'InternetBanking',\n",
       "       'CreditCard', 'LoanOnCard'],\n",
       "      dtype='object')"
      ]
     },
     "execution_count": 77,
     "metadata": {},
     "output_type": "execute_result"
    }
   ],
   "source": [
    "df_2.columns"
   ]
  },
  {
   "cell_type": "markdown",
   "id": "b489a85f",
   "metadata": {},
   "source": [
    "##  Merge both the Dataframes on ‘ID’ feature to form a single DataFrame"
   ]
  },
  {
   "cell_type": "code",
   "execution_count": 78,
   "id": "e90b9b1b",
   "metadata": {},
   "outputs": [],
   "source": [
    "df=df_1.merge(df_2, on='ID')"
   ]
  },
  {
   "cell_type": "code",
   "execution_count": 79,
   "id": "1a096fc3",
   "metadata": {},
   "outputs": [
    {
     "data": {
      "text/plain": [
       "(5000, 14)"
      ]
     },
     "execution_count": 79,
     "metadata": {},
     "output_type": "execute_result"
    }
   ],
   "source": [
    "df.shape"
   ]
  },
  {
   "cell_type": "code",
   "execution_count": 80,
   "id": "7598245e",
   "metadata": {},
   "outputs": [
    {
     "data": {
      "text/plain": [
       "Index(['ID', 'Age', 'CustomerSince', 'HighestSpend', 'ZipCode', 'HiddenScore',\n",
       "       'MonthlyAverageSpend', 'Level', 'Mortgage', 'Security',\n",
       "       'FixedDepositAccount', 'InternetBanking', 'CreditCard', 'LoanOnCard'],\n",
       "      dtype='object')"
      ]
     },
     "execution_count": 80,
     "metadata": {},
     "output_type": "execute_result"
    }
   ],
   "source": [
    "df.columns"
   ]
  },
  {
   "cell_type": "code",
   "execution_count": 81,
   "id": "d825b0b9",
   "metadata": {},
   "outputs": [
    {
     "data": {
      "text/html": [
       "<div>\n",
       "<style scoped>\n",
       "    .dataframe tbody tr th:only-of-type {\n",
       "        vertical-align: middle;\n",
       "    }\n",
       "\n",
       "    .dataframe tbody tr th {\n",
       "        vertical-align: top;\n",
       "    }\n",
       "\n",
       "    .dataframe thead th {\n",
       "        text-align: right;\n",
       "    }\n",
       "</style>\n",
       "<table border=\"1\" class=\"dataframe\">\n",
       "  <thead>\n",
       "    <tr style=\"text-align: right;\">\n",
       "      <th></th>\n",
       "      <th>ID</th>\n",
       "      <th>Age</th>\n",
       "      <th>CustomerSince</th>\n",
       "      <th>HighestSpend</th>\n",
       "      <th>ZipCode</th>\n",
       "      <th>HiddenScore</th>\n",
       "      <th>MonthlyAverageSpend</th>\n",
       "      <th>Level</th>\n",
       "      <th>Mortgage</th>\n",
       "      <th>Security</th>\n",
       "      <th>FixedDepositAccount</th>\n",
       "      <th>InternetBanking</th>\n",
       "      <th>CreditCard</th>\n",
       "      <th>LoanOnCard</th>\n",
       "    </tr>\n",
       "  </thead>\n",
       "  <tbody>\n",
       "    <tr>\n",
       "      <th>0</th>\n",
       "      <td>1</td>\n",
       "      <td>25</td>\n",
       "      <td>1</td>\n",
       "      <td>49</td>\n",
       "      <td>91107</td>\n",
       "      <td>4</td>\n",
       "      <td>1.6</td>\n",
       "      <td>1</td>\n",
       "      <td>0</td>\n",
       "      <td>1</td>\n",
       "      <td>0</td>\n",
       "      <td>0</td>\n",
       "      <td>0</td>\n",
       "      <td>NaN</td>\n",
       "    </tr>\n",
       "    <tr>\n",
       "      <th>1</th>\n",
       "      <td>2</td>\n",
       "      <td>45</td>\n",
       "      <td>19</td>\n",
       "      <td>34</td>\n",
       "      <td>90089</td>\n",
       "      <td>3</td>\n",
       "      <td>1.5</td>\n",
       "      <td>1</td>\n",
       "      <td>0</td>\n",
       "      <td>1</td>\n",
       "      <td>0</td>\n",
       "      <td>0</td>\n",
       "      <td>0</td>\n",
       "      <td>NaN</td>\n",
       "    </tr>\n",
       "    <tr>\n",
       "      <th>2</th>\n",
       "      <td>3</td>\n",
       "      <td>39</td>\n",
       "      <td>15</td>\n",
       "      <td>11</td>\n",
       "      <td>94720</td>\n",
       "      <td>1</td>\n",
       "      <td>1.0</td>\n",
       "      <td>1</td>\n",
       "      <td>0</td>\n",
       "      <td>0</td>\n",
       "      <td>0</td>\n",
       "      <td>0</td>\n",
       "      <td>0</td>\n",
       "      <td>NaN</td>\n",
       "    </tr>\n",
       "    <tr>\n",
       "      <th>3</th>\n",
       "      <td>4</td>\n",
       "      <td>35</td>\n",
       "      <td>9</td>\n",
       "      <td>100</td>\n",
       "      <td>94112</td>\n",
       "      <td>1</td>\n",
       "      <td>2.7</td>\n",
       "      <td>2</td>\n",
       "      <td>0</td>\n",
       "      <td>0</td>\n",
       "      <td>0</td>\n",
       "      <td>0</td>\n",
       "      <td>0</td>\n",
       "      <td>NaN</td>\n",
       "    </tr>\n",
       "    <tr>\n",
       "      <th>4</th>\n",
       "      <td>5</td>\n",
       "      <td>35</td>\n",
       "      <td>8</td>\n",
       "      <td>45</td>\n",
       "      <td>91330</td>\n",
       "      <td>4</td>\n",
       "      <td>1.0</td>\n",
       "      <td>2</td>\n",
       "      <td>0</td>\n",
       "      <td>0</td>\n",
       "      <td>0</td>\n",
       "      <td>0</td>\n",
       "      <td>1</td>\n",
       "      <td>NaN</td>\n",
       "    </tr>\n",
       "  </tbody>\n",
       "</table>\n",
       "</div>"
      ],
      "text/plain": [
       "   ID  Age  CustomerSince  HighestSpend  ZipCode  HiddenScore  \\\n",
       "0   1   25              1            49    91107            4   \n",
       "1   2   45             19            34    90089            3   \n",
       "2   3   39             15            11    94720            1   \n",
       "3   4   35              9           100    94112            1   \n",
       "4   5   35              8            45    91330            4   \n",
       "\n",
       "   MonthlyAverageSpend  Level  Mortgage  Security  FixedDepositAccount  \\\n",
       "0                  1.6      1         0         1                    0   \n",
       "1                  1.5      1         0         1                    0   \n",
       "2                  1.0      1         0         0                    0   \n",
       "3                  2.7      2         0         0                    0   \n",
       "4                  1.0      2         0         0                    0   \n",
       "\n",
       "   InternetBanking  CreditCard  LoanOnCard  \n",
       "0                0           0         NaN  \n",
       "1                0           0         NaN  \n",
       "2                0           0         NaN  \n",
       "3                0           0         NaN  \n",
       "4                0           1         NaN  "
      ]
     },
     "execution_count": 81,
     "metadata": {},
     "output_type": "execute_result"
    }
   ],
   "source": [
    "df.head()"
   ]
  },
  {
   "cell_type": "markdown",
   "id": "d4459a80",
   "metadata": {},
   "source": [
    "Dataframe row counts remains the same and the number of features increased to 14 on merging two dataframes"
   ]
  },
  {
   "cell_type": "code",
   "execution_count": 82,
   "id": "0684eb3d",
   "metadata": {},
   "outputs": [
    {
     "name": "stdout",
     "output_type": "stream",
     "text": [
      "<class 'pandas.core.frame.DataFrame'>\n",
      "Int64Index: 5000 entries, 0 to 4999\n",
      "Data columns (total 14 columns):\n",
      " #   Column               Non-Null Count  Dtype  \n",
      "---  ------               --------------  -----  \n",
      " 0   ID                   5000 non-null   int64  \n",
      " 1   Age                  5000 non-null   int64  \n",
      " 2   CustomerSince        5000 non-null   int64  \n",
      " 3   HighestSpend         5000 non-null   int64  \n",
      " 4   ZipCode              5000 non-null   int64  \n",
      " 5   HiddenScore          5000 non-null   int64  \n",
      " 6   MonthlyAverageSpend  5000 non-null   float64\n",
      " 7   Level                5000 non-null   int64  \n",
      " 8   Mortgage             5000 non-null   int64  \n",
      " 9   Security             5000 non-null   int64  \n",
      " 10  FixedDepositAccount  5000 non-null   int64  \n",
      " 11  InternetBanking      5000 non-null   int64  \n",
      " 12  CreditCard           5000 non-null   int64  \n",
      " 13  LoanOnCard           4980 non-null   float64\n",
      "dtypes: float64(2), int64(12)\n",
      "memory usage: 585.9 KB\n"
     ]
    }
   ],
   "source": [
    "df.info()"
   ]
  },
  {
   "cell_type": "markdown",
   "id": "d5eaffb7",
   "metadata": {},
   "source": [
    "##  Change Datatype of below features to ‘Object’"
   ]
  },
  {
   "cell_type": "code",
   "execution_count": 83,
   "id": "197801f7",
   "metadata": {},
   "outputs": [],
   "source": [
    "col=['HiddenScore','Level','Security','FixedDepositAccount', 'InternetBanking', 'CreditCard', 'LoanOnCard']\n",
    "for i in col:\n",
    "    df[i]=df[i].astype('object')"
   ]
  },
  {
   "cell_type": "code",
   "execution_count": 84,
   "id": "a5a19f1d",
   "metadata": {},
   "outputs": [
    {
     "data": {
      "text/plain": [
       "ID                       int64\n",
       "Age                      int64\n",
       "CustomerSince            int64\n",
       "HighestSpend             int64\n",
       "ZipCode                  int64\n",
       "HiddenScore             object\n",
       "MonthlyAverageSpend    float64\n",
       "Level                   object\n",
       "Mortgage                 int64\n",
       "Security                object\n",
       "FixedDepositAccount     object\n",
       "InternetBanking         object\n",
       "CreditCard              object\n",
       "LoanOnCard              object\n",
       "dtype: object"
      ]
     },
     "execution_count": 84,
     "metadata": {},
     "output_type": "execute_result"
    }
   ],
   "source": [
    "df.dtypes"
   ]
  },
  {
   "cell_type": "code",
   "execution_count": 85,
   "id": "b2e6237e",
   "metadata": {},
   "outputs": [
    {
     "data": {
      "text/plain": [
       "0.0    4500\n",
       "1.0     480\n",
       "Name: LoanOnCard, dtype: int64"
      ]
     },
     "execution_count": 85,
     "metadata": {},
     "output_type": "execute_result"
    }
   ],
   "source": [
    "df['LoanOnCard'].value_counts()"
   ]
  },
  {
   "cell_type": "code",
   "execution_count": 86,
   "id": "7c067a59",
   "metadata": {},
   "outputs": [
    {
     "name": "stderr",
     "output_type": "stream",
     "text": [
      "C:\\Users\\ADMIN\\anaconda3\\lib\\site-packages\\seaborn\\_decorators.py:36: FutureWarning: Pass the following variable as a keyword arg: x. From version 0.12, the only valid positional argument will be `data`, and passing other arguments without an explicit keyword will result in an error or misinterpretation.\n",
      "  warnings.warn(\n"
     ]
    },
    {
     "data": {
      "text/plain": [
       "<AxesSubplot:xlabel='LoanOnCard', ylabel='count'>"
      ]
     },
     "execution_count": 86,
     "metadata": {},
     "output_type": "execute_result"
    },
    {
     "data": {
      "image/png": "[encoded data removed]",
      "text/plain": [
       "<Figure size 432x288 with 1 Axes>"
      ]
     },
     "metadata": {
      "needs_background": "light"
     },
     "output_type": "display_data"
    }
   ],
   "source": [
    "sns.countplot(df['LoanOnCard'])\n"
   ]
  },
  {
   "cell_type": "markdown",
   "id": "63b1325e",
   "metadata": {},
   "source": [
    "### There is imbalance in Target variable with almost 90% data in 0 and 10% data in 1."
   ]
  },
  {
   "cell_type": "markdown",
   "id": "28420450",
   "metadata": {},
   "source": [
    "##  Check the percentage of missing values and impute if required"
   ]
  },
  {
   "cell_type": "code",
   "execution_count": 87,
   "id": "6f0b48c5",
   "metadata": {},
   "outputs": [
    {
     "data": {
      "text/plain": [
       "ID                     0.0\n",
       "Age                    0.0\n",
       "CustomerSince          0.0\n",
       "HighestSpend           0.0\n",
       "ZipCode                0.0\n",
       "HiddenScore            0.0\n",
       "MonthlyAverageSpend    0.0\n",
       "Level                  0.0\n",
       "Mortgage               0.0\n",
       "Security               0.0\n",
       "FixedDepositAccount    0.0\n",
       "InternetBanking        0.0\n",
       "CreditCard             0.0\n",
       "LoanOnCard             0.4\n",
       "dtype: float64"
      ]
     },
     "execution_count": 87,
     "metadata": {},
     "output_type": "execute_result"
    }
   ],
   "source": [
    "df.isnull().mean() * 100"
   ]
  },
  {
   "cell_type": "code",
   "execution_count": 88,
   "id": "35c427f2",
   "metadata": {},
   "outputs": [],
   "source": [
    "df.dropna(axis=0,inplace=True)"
   ]
  },
  {
   "cell_type": "code",
   "execution_count": 89,
   "id": "8da87380",
   "metadata": {},
   "outputs": [
    {
     "data": {
      "text/plain": [
       "ID                     0.0\n",
       "Age                    0.0\n",
       "CustomerSince          0.0\n",
       "HighestSpend           0.0\n",
       "ZipCode                0.0\n",
       "HiddenScore            0.0\n",
       "MonthlyAverageSpend    0.0\n",
       "Level                  0.0\n",
       "Mortgage               0.0\n",
       "Security               0.0\n",
       "FixedDepositAccount    0.0\n",
       "InternetBanking        0.0\n",
       "CreditCard             0.0\n",
       "LoanOnCard             0.0\n",
       "dtype: float64"
      ]
     },
     "execution_count": 89,
     "metadata": {},
     "output_type": "execute_result"
    }
   ],
   "source": [
    "df.isnull().mean() * 100"
   ]
  },
  {
   "cell_type": "markdown",
   "id": "8722454d",
   "metadata": {},
   "source": [
    "###  Missing values have been dropped and formated the dataset with right datatypes"
   ]
  },
  {
   "cell_type": "markdown",
   "id": "b26444ea",
   "metadata": {},
   "source": [
    "## Data Preparation and model building: 10"
   ]
  },
  {
   "cell_type": "markdown",
   "id": "170a76da",
   "metadata": {},
   "source": [
    "##  Split data into X and Y"
   ]
  },
  {
   "cell_type": "code",
   "execution_count": 24,
   "id": "647540a2",
   "metadata": {},
   "outputs": [],
   "source": [
    "col=[ 'LoanOnCard']\n",
    "for i in col:\n",
    "    df[i]=df[i].astype('category')"
   ]
  },
  {
   "cell_type": "code",
   "execution_count": 25,
   "id": "feeebb57",
   "metadata": {},
   "outputs": [],
   "source": [
    "X = df.drop('LoanOnCard', axis=1)\n",
    "Y = df[['LoanOnCard']]"
   ]
  },
  {
   "cell_type": "code",
   "execution_count": 26,
   "id": "ccec751d",
   "metadata": {},
   "outputs": [],
   "source": [
    "#Convert categorical vriables to dummy variables\n",
    "X = pd.get_dummies(X, drop_first=True)"
   ]
  },
  {
   "cell_type": "code",
   "execution_count": 27,
   "id": "138348ce",
   "metadata": {},
   "outputs": [
    {
     "data": {
      "text/html": [
       "<div>\n",
       "<style scoped>\n",
       "    .dataframe tbody tr th:only-of-type {\n",
       "        vertical-align: middle;\n",
       "    }\n",
       "\n",
       "    .dataframe tbody tr th {\n",
       "        vertical-align: top;\n",
       "    }\n",
       "\n",
       "    .dataframe thead th {\n",
       "        text-align: right;\n",
       "    }\n",
       "</style>\n",
       "<table border=\"1\" class=\"dataframe\">\n",
       "  <thead>\n",
       "    <tr style=\"text-align: right;\">\n",
       "      <th></th>\n",
       "      <th>ID</th>\n",
       "      <th>Age</th>\n",
       "      <th>CustomerSince</th>\n",
       "      <th>HighestSpend</th>\n",
       "      <th>ZipCode</th>\n",
       "      <th>MonthlyAverageSpend</th>\n",
       "      <th>Mortgage</th>\n",
       "      <th>HiddenScore_2</th>\n",
       "      <th>HiddenScore_3</th>\n",
       "      <th>HiddenScore_4</th>\n",
       "      <th>Level_2</th>\n",
       "      <th>Level_3</th>\n",
       "      <th>Security_1</th>\n",
       "      <th>FixedDepositAccount_1</th>\n",
       "      <th>InternetBanking_1</th>\n",
       "      <th>CreditCard_1</th>\n",
       "    </tr>\n",
       "  </thead>\n",
       "  <tbody>\n",
       "    <tr>\n",
       "      <th>9</th>\n",
       "      <td>10</td>\n",
       "      <td>34</td>\n",
       "      <td>9</td>\n",
       "      <td>180</td>\n",
       "      <td>93023</td>\n",
       "      <td>8.9</td>\n",
       "      <td>0</td>\n",
       "      <td>0</td>\n",
       "      <td>0</td>\n",
       "      <td>0</td>\n",
       "      <td>0</td>\n",
       "      <td>1</td>\n",
       "      <td>0</td>\n",
       "      <td>0</td>\n",
       "      <td>0</td>\n",
       "      <td>0</td>\n",
       "    </tr>\n",
       "    <tr>\n",
       "      <th>10</th>\n",
       "      <td>11</td>\n",
       "      <td>65</td>\n",
       "      <td>39</td>\n",
       "      <td>105</td>\n",
       "      <td>94710</td>\n",
       "      <td>2.4</td>\n",
       "      <td>0</td>\n",
       "      <td>0</td>\n",
       "      <td>0</td>\n",
       "      <td>1</td>\n",
       "      <td>0</td>\n",
       "      <td>1</td>\n",
       "      <td>0</td>\n",
       "      <td>0</td>\n",
       "      <td>0</td>\n",
       "      <td>0</td>\n",
       "    </tr>\n",
       "    <tr>\n",
       "      <th>11</th>\n",
       "      <td>12</td>\n",
       "      <td>29</td>\n",
       "      <td>5</td>\n",
       "      <td>45</td>\n",
       "      <td>90277</td>\n",
       "      <td>0.1</td>\n",
       "      <td>0</td>\n",
       "      <td>0</td>\n",
       "      <td>1</td>\n",
       "      <td>0</td>\n",
       "      <td>1</td>\n",
       "      <td>0</td>\n",
       "      <td>0</td>\n",
       "      <td>0</td>\n",
       "      <td>1</td>\n",
       "      <td>0</td>\n",
       "    </tr>\n",
       "    <tr>\n",
       "      <th>12</th>\n",
       "      <td>13</td>\n",
       "      <td>48</td>\n",
       "      <td>23</td>\n",
       "      <td>114</td>\n",
       "      <td>93106</td>\n",
       "      <td>3.8</td>\n",
       "      <td>0</td>\n",
       "      <td>1</td>\n",
       "      <td>0</td>\n",
       "      <td>0</td>\n",
       "      <td>0</td>\n",
       "      <td>1</td>\n",
       "      <td>1</td>\n",
       "      <td>0</td>\n",
       "      <td>0</td>\n",
       "      <td>0</td>\n",
       "    </tr>\n",
       "    <tr>\n",
       "      <th>13</th>\n",
       "      <td>14</td>\n",
       "      <td>59</td>\n",
       "      <td>32</td>\n",
       "      <td>40</td>\n",
       "      <td>94920</td>\n",
       "      <td>2.5</td>\n",
       "      <td>0</td>\n",
       "      <td>0</td>\n",
       "      <td>0</td>\n",
       "      <td>1</td>\n",
       "      <td>1</td>\n",
       "      <td>0</td>\n",
       "      <td>0</td>\n",
       "      <td>0</td>\n",
       "      <td>1</td>\n",
       "      <td>0</td>\n",
       "    </tr>\n",
       "  </tbody>\n",
       "</table>\n",
       "</div>"
      ],
      "text/plain": [
       "    ID  Age  CustomerSince  HighestSpend  ZipCode  MonthlyAverageSpend  \\\n",
       "9   10   34              9           180    93023                  8.9   \n",
       "10  11   65             39           105    94710                  2.4   \n",
       "11  12   29              5            45    90277                  0.1   \n",
       "12  13   48             23           114    93106                  3.8   \n",
       "13  14   59             32            40    94920                  2.5   \n",
       "\n",
       "    Mortgage  HiddenScore_2  HiddenScore_3  HiddenScore_4  Level_2  Level_3  \\\n",
       "9          0              0              0              0        0        1   \n",
       "10         0              0              0              1        0        1   \n",
       "11         0              0              1              0        1        0   \n",
       "12         0              1              0              0        0        1   \n",
       "13         0              0              0              1        1        0   \n",
       "\n",
       "    Security_1  FixedDepositAccount_1  InternetBanking_1  CreditCard_1  \n",
       "9            0                      0                  0             0  \n",
       "10           0                      0                  0             0  \n",
       "11           0                      0                  1             0  \n",
       "12           1                      0                  0             0  \n",
       "13           0                      0                  1             0  "
      ]
     },
     "execution_count": 27,
     "metadata": {},
     "output_type": "execute_result"
    }
   ],
   "source": [
    "X.head()"
   ]
  },
  {
   "cell_type": "markdown",
   "id": "84c9b882",
   "metadata": {},
   "source": [
    "## Split data into train and test. Keep 25% data reserved for testing"
   ]
  },
  {
   "cell_type": "code",
   "execution_count": 28,
   "id": "8f47b469",
   "metadata": {},
   "outputs": [],
   "source": [
    "##Split into training and test set\n",
    "\n",
    "\n",
    "X_train, X_test, y_train, y_test = train_test_split(X, Y, test_size=0.25,random_state=42)"
   ]
  },
  {
   "cell_type": "code",
   "execution_count": 29,
   "id": "a355cfcd",
   "metadata": {},
   "outputs": [],
   "source": [
    "from sklearn.linear_model import LogisticRegression"
   ]
  },
  {
   "cell_type": "code",
   "execution_count": 30,
   "id": "3d4746c1",
   "metadata": {},
   "outputs": [],
   "source": [
    "#Build the logistic regression model\n",
    "logreg = LogisticRegression(max_iter=1000)"
   ]
  },
  {
   "cell_type": "code",
   "execution_count": 31,
   "id": "6a095223",
   "metadata": {},
   "outputs": [
    {
     "data": {
      "text/plain": [
       "LogisticRegression(max_iter=1000)"
      ]
     },
     "execution_count": 31,
     "metadata": {},
     "output_type": "execute_result"
    }
   ],
   "source": [
    "logreg.fit(X_train, y_train.values.ravel())"
   ]
  },
  {
   "cell_type": "code",
   "execution_count": 32,
   "id": "04296c23",
   "metadata": {},
   "outputs": [],
   "source": [
    "#Predict for test set\n",
    "pred_test = logreg.predict(X_test)"
   ]
  },
  {
   "cell_type": "code",
   "execution_count": 33,
   "id": "bcb4537b",
   "metadata": {},
   "outputs": [
    {
     "data": {
      "text/plain": [
       "array([0., 0., 0., ..., 0., 0., 0.])"
      ]
     },
     "execution_count": 33,
     "metadata": {},
     "output_type": "execute_result"
    }
   ],
   "source": [
    "pred_test"
   ]
  },
  {
   "cell_type": "code",
   "execution_count": 34,
   "id": "80f35a67",
   "metadata": {},
   "outputs": [],
   "source": [
    "#Predict for train set\n",
    "pred_train = logreg.predict(X_train)"
   ]
  },
  {
   "cell_type": "markdown",
   "id": "d6435d70",
   "metadata": {},
   "source": [
    "##  Print evaluation metrics for the model and clearly share insights. ["
   ]
  },
  {
   "cell_type": "code",
   "execution_count": 35,
   "id": "20ad4d2c",
   "metadata": {},
   "outputs": [
    {
     "name": "stdout",
     "output_type": "stream",
     "text": [
      "Test Accuracy:  0.9\n"
     ]
    }
   ],
   "source": [
    "from sklearn.metrics import accuracy_score\n",
    "test_accuracy=accuracy_score(y_test, pred_test)\n",
    "\n",
    "print('Test Accuracy: ',np.round(test_accuracy,2))"
   ]
  },
  {
   "cell_type": "code",
   "execution_count": 36,
   "id": "16975ca2",
   "metadata": {},
   "outputs": [
    {
     "name": "stdout",
     "output_type": "stream",
     "text": [
      "Test Accuracy:  0.91\n"
     ]
    }
   ],
   "source": [
    "train_accuracy=accuracy_score(y_train, pred_train)\n",
    "\n",
    "print('Test Accuracy: ',np.round(train_accuracy,2))"
   ]
  },
  {
   "cell_type": "code",
   "execution_count": 37,
   "id": "5f6dbf9d",
   "metadata": {},
   "outputs": [
    {
     "name": "stdout",
     "output_type": "stream",
     "text": [
      "confusion matrix_train_data = \n",
      " [[3270  102]\n",
      " [ 238  125]]\n"
     ]
    }
   ],
   "source": [
    "from sklearn.metrics import classification_report,confusion_matrix\n",
    "mat_train = confusion_matrix(y_train,pred_train)\n",
    "\n",
    "print(\"confusion matrix_train_data = \\n\",mat_train)"
   ]
  },
  {
   "cell_type": "code",
   "execution_count": 38,
   "id": "932c1d81",
   "metadata": {},
   "outputs": [
    {
     "name": "stdout",
     "output_type": "stream",
     "text": [
      "confusion matrix_test_data = \n",
      " [[1091   37]\n",
      " [  82   35]]\n"
     ]
    }
   ],
   "source": [
    "mat_test = confusion_matrix(y_test,pred_test)\n",
    "print(\"confusion matrix_test_data = \\n\",mat_test)"
   ]
  },
  {
   "cell_type": "markdown",
   "id": "808566cd",
   "metadata": {},
   "source": [
    "## Balance the data using the right balancing technique"
   ]
  },
  {
   "cell_type": "code",
   "execution_count": 39,
   "id": "93b86938",
   "metadata": {},
   "outputs": [],
   "source": [
    "sample_data=pd.concat([df[df['LoanOnCard']==0].sample(480),df[df['LoanOnCard']==1]])\n",
    "df_sample = sample_data.drop(['Security','InternetBanking','CreditCard','Age','CustomerSince','ZipCode'], axis=1)\n",
    "X1=df_sample.drop('LoanOnCard', axis=1)\n",
    "y1=df_sample['LoanOnCard']"
   ]
  },
  {
   "cell_type": "code",
   "execution_count": 40,
   "id": "6cdc64fb",
   "metadata": {},
   "outputs": [
    {
     "data": {
      "text/plain": [
       "(960, 7)"
      ]
     },
     "execution_count": 40,
     "metadata": {},
     "output_type": "execute_result"
    }
   ],
   "source": [
    "X1.shape"
   ]
  },
  {
   "cell_type": "code",
   "execution_count": 41,
   "id": "ca41512e",
   "metadata": {},
   "outputs": [
    {
     "data": {
      "text/plain": [
       "(960,)"
      ]
     },
     "execution_count": 41,
     "metadata": {},
     "output_type": "execute_result"
    }
   ],
   "source": [
    "y1.shape"
   ]
  },
  {
   "cell_type": "code",
   "execution_count": 42,
   "id": "482e4f67",
   "metadata": {},
   "outputs": [
    {
     "data": {
      "text/plain": [
       "0.0    480\n",
       "1.0    480\n",
       "Name: LoanOnCard, dtype: int64"
      ]
     },
     "execution_count": 42,
     "metadata": {},
     "output_type": "execute_result"
    }
   ],
   "source": [
    "y1.value_counts()"
   ]
  },
  {
   "cell_type": "markdown",
   "id": "c7ff37ad",
   "metadata": {},
   "source": [
    "imbalance in the dataset has been handled with downsampling thing data. there are other techiniques like SMOTE oversampling & downsampling techinques ect. i have planned to go with manual sampling based the course"
   ]
  },
  {
   "cell_type": "markdown",
   "id": "efb05e57",
   "metadata": {},
   "source": [
    "##  Again train the same previous model on balanced data"
   ]
  },
  {
   "cell_type": "code",
   "execution_count": 46,
   "id": "6f9ed93b",
   "metadata": {},
   "outputs": [],
   "source": [
    "# Split X and y into training and test set in 75:25 ratio\n",
    "X_train1, X_test1, y_train1, y_test1 = train_test_split(X1, y1, test_size=0.25, random_state=10)"
   ]
  },
  {
   "cell_type": "code",
   "execution_count": 47,
   "id": "528adb9e",
   "metadata": {},
   "outputs": [],
   "source": [
    "logreg.fit(X_train1, y_train1)\n",
    "pred=logreg.predict(X_test1)"
   ]
  },
  {
   "cell_type": "markdown",
   "id": "cf77e712",
   "metadata": {},
   "source": [
    "##   Print evaluation metrics and clearly share differences observed"
   ]
  },
  {
   "cell_type": "code",
   "execution_count": 48,
   "id": "4138195e",
   "metadata": {},
   "outputs": [
    {
     "name": "stdout",
     "output_type": "stream",
     "text": [
      " Test Accuracy score:89.58 %\n",
      "              precision    recall  f1-score   support\n",
      "\n",
      "         0.0       0.92      0.88      0.90       127\n",
      "         1.0       0.87      0.91      0.89       113\n",
      "\n",
      "    accuracy                           0.90       240\n",
      "   macro avg       0.90      0.90      0.90       240\n",
      "weighted avg       0.90      0.90      0.90       240\n",
      "\n"
     ]
    },
    {
     "data": {
      "image/png": "[encoded data removed]",
      "text/plain": [
       "<Figure size 432x288 with 2 Axes>"
      ]
     },
     "metadata": {
      "needs_background": "light"
     },
     "output_type": "display_data"
    }
   ],
   "source": [
    "print(\" Test Accuracy score:{:.2f} %\".format(accuracy_score(y_test1, pred)*100))\n",
    "\n",
    "sns.heatmap(confusion_matrix(y_test1, pred), annot=True, fmt='.2f')\n",
    "print(classification_report(y_test1,pred))"
   ]
  },
  {
   "cell_type": "markdown",
   "id": "d0abcc3c",
   "metadata": {},
   "source": [
    "Though the accuracy score is reduced to 89.58%, we can say that the model is peforming well in balanced data"
   ]
  },
  {
   "cell_type": "markdown",
   "id": "f553eb77",
   "metadata": {},
   "source": [
    "Comparing with the imbalanced dataset, the balanced dataset perform better with high precission value. However, there are room for improvements to reduce the False Negative. Lets try with different modeling technique"
   ]
  },
  {
   "cell_type": "markdown",
   "id": "56653a98",
   "metadata": {},
   "source": [
    "##  4. Performance Improvement: 10"
   ]
  },
  {
   "cell_type": "markdown",
   "id": "13430486",
   "metadata": {},
   "source": [
    "## Train a base model each for SVM, KNN"
   ]
  },
  {
   "cell_type": "markdown",
   "id": "f0bb1c3e",
   "metadata": {},
   "source": [
    "##  SVM"
   ]
  },
  {
   "cell_type": "code",
   "execution_count": 49,
   "id": "41aa41d7",
   "metadata": {},
   "outputs": [],
   "source": [
    "clf = svm.SVC(gamma=0.025, C=3) "
   ]
  },
  {
   "cell_type": "code",
   "execution_count": 50,
   "id": "9ed763ec",
   "metadata": {},
   "outputs": [
    {
     "data": {
      "text/plain": [
       "SVC(C=3, gamma=0.025)"
      ]
     },
     "execution_count": 50,
     "metadata": {},
     "output_type": "execute_result"
    }
   ],
   "source": [
    "clf.fit(X_train , y_train)"
   ]
  },
  {
   "cell_type": "code",
   "execution_count": 57,
   "id": "ec3183df",
   "metadata": {},
   "outputs": [
    {
     "data": {
      "text/plain": [
       "array([1., 1., 1., 1., 1., 1., 1., 1., 1., 1., 1., 1., 1., 1., 1., 1., 1.,\n",
       "       1., 0., 1., 1., 1., 1., 1., 1., 1., 1., 1., 1., 1., 1., 1., 1., 1.,\n",
       "       1., 1., 1., 1., 1., 1., 1., 1., 1., 1., 0., 1., 1., 1., 1., 1., 1.,\n",
       "       1., 1., 1., 1., 1., 0., 1., 1., 1., 1., 1., 1., 1., 1., 1., 1., 1.,\n",
       "       1., 1., 1., 1., 1., 1., 1., 1., 1., 1., 1., 1., 1., 1., 1., 1., 1.,\n",
       "       1., 1., 0., 1., 1., 1., 1., 1., 1., 1., 0., 1., 1., 1., 1., 1., 1.,\n",
       "       1., 1., 1., 1., 1., 1., 1., 1., 1., 1., 1., 0., 1., 1., 1., 1., 1.,\n",
       "       1., 1., 1., 1., 1., 1., 1., 1., 1., 1., 1., 1., 1., 1., 1., 1., 1.,\n",
       "       1., 1., 1., 1., 0., 1., 1., 1., 1., 1., 1., 1., 1., 1., 1., 1., 1.,\n",
       "       1., 1., 1., 1., 1., 1., 1., 1., 1., 1., 1., 1., 1., 1., 1., 1., 1.,\n",
       "       1., 1., 1., 1., 1., 1., 1., 1., 1., 1., 1., 1., 1., 1., 1., 1., 1.,\n",
       "       1., 1., 1., 1., 1., 1., 1., 1., 1., 1., 1., 1., 1., 1., 1., 1., 1.,\n",
       "       1., 1., 1., 1., 1., 1., 0., 1., 1., 1., 1., 1., 1., 1., 1., 1., 1.,\n",
       "       1., 1., 1., 1., 1., 1., 1., 1., 1., 1., 1., 1., 1., 1., 1., 0., 1.,\n",
       "       1., 1.])"
      ]
     },
     "execution_count": 57,
     "metadata": {},
     "output_type": "execute_result"
    }
   ],
   "source": [
    "y_pred = clf.predict(X_test)\n",
    "y_pred"
   ]
  },
  {
   "cell_type": "markdown",
   "id": "93490dc0",
   "metadata": {},
   "source": [
    "## KNN"
   ]
  },
  {
   "cell_type": "code",
   "execution_count": 61,
   "id": "df805b81",
   "metadata": {},
   "outputs": [],
   "source": [
    "KNN = KNeighborsClassifier(n_neighbors= 5 , metric = 'euclidean' ) #Building knn with 5 neighbors"
   ]
  },
  {
   "cell_type": "code",
   "execution_count": 62,
   "id": "79fac194",
   "metadata": {},
   "outputs": [],
   "source": [
    "KNN.fit(X_train, y_train)\n",
    "predicted_labels = KNN.predict(X_test)"
   ]
  },
  {
   "cell_type": "code",
   "execution_count": 63,
   "id": "e9c44229",
   "metadata": {},
   "outputs": [
    {
     "name": "stdout",
     "output_type": "stream",
     "text": [
      "Accuracy on Training data: 0.8805555555555555\n",
      "Accuracy on Test data: 0.8458333333333333\n"
     ]
    }
   ],
   "source": [
    "print('Accuracy on Training data:',KNN.score(X_train, y_train) )\n",
    "print('Accuracy on Test data:',KNN.score(X_test, y_test) )"
   ]
  },
  {
   "cell_type": "markdown",
   "id": "4c5863ba",
   "metadata": {},
   "source": [
    "## Tune parameters/hyperparameters for each of the models wherever required and finalize a\n",
    "model"
   ]
  },
  {
   "cell_type": "code",
   "execution_count": 64,
   "id": "237feec3",
   "metadata": {},
   "outputs": [],
   "source": [
    "train_score=[]\n",
    "test_score=[]\n",
    "for k in range(1,51):\n",
    "    KNN = KNeighborsClassifier(n_neighbors= k , metric = 'euclidean' ) \n",
    "    KNN.fit(X_train, y_train)\n",
    "    train_score.append(KNN.score(X_train, y_train))\n",
    "    test_score.append(KNN.score(X_test, y_test))"
   ]
  },
  {
   "cell_type": "code",
   "execution_count": 65,
   "id": "f2ad611c",
   "metadata": {},
   "outputs": [
    {
     "data": {
      "image/png": "[encoded data removed]",
      "text/plain": [
       "<Figure size 432x288 with 1 Axes>"
      ]
     },
     "metadata": {
      "needs_background": "light"
     },
     "output_type": "display_data"
    }
   ],
   "source": [
    "plt.plot(range(1,51),train_score)\n",
    "plt.show()"
   ]
  },
  {
   "cell_type": "code",
   "execution_count": 66,
   "id": "3d928395",
   "metadata": {},
   "outputs": [
    {
     "data": {
      "image/png": "[encoded data removed]",
      "text/plain": [
       "<Figure size 432x288 with 1 Axes>"
      ]
     },
     "metadata": {
      "needs_background": "light"
     },
     "output_type": "display_data"
    }
   ],
   "source": [
    "plt.plot(range(1,51),test_score)\n",
    "plt.show()"
   ]
  },
  {
   "cell_type": "code",
   "execution_count": 67,
   "id": "4853b99c",
   "metadata": {},
   "outputs": [
    {
     "name": "stdout",
     "output_type": "stream",
     "text": [
      "Accuracy on Training data for k 1 is 1.0:\n",
      "Accuracy on Test data for k 1 is 0.7708333333333334:\n",
      "classification  Matrix:\n",
      "               precision    recall  f1-score   support\n",
      "\n",
      "         0.0       0.83      0.72      0.77       127\n",
      "         1.0       0.72      0.83      0.77       113\n",
      "\n",
      "    accuracy                           0.77       240\n",
      "   macro avg       0.78      0.77      0.77       240\n",
      "weighted avg       0.78      0.77      0.77       240\n",
      "\n",
      "Accuracy on Training data for k 3 is 0.9013888888888889:\n",
      "Accuracy on Test data for k 3 is 0.8:\n",
      "classification  Matrix:\n",
      "               precision    recall  f1-score   support\n",
      "\n",
      "         0.0       0.88      0.72      0.79       127\n",
      "         1.0       0.74      0.89      0.81       113\n",
      "\n",
      "    accuracy                           0.80       240\n",
      "   macro avg       0.81      0.81      0.80       240\n",
      "weighted avg       0.81      0.80      0.80       240\n",
      "\n",
      "Accuracy on Training data for k 5 is 0.8805555555555555:\n",
      "Accuracy on Test data for k 5 is 0.8458333333333333:\n",
      "classification  Matrix:\n",
      "               precision    recall  f1-score   support\n",
      "\n",
      "         0.0       0.89      0.81      0.85       127\n",
      "         1.0       0.81      0.88      0.84       113\n",
      "\n",
      "    accuracy                           0.85       240\n",
      "   macro avg       0.85      0.85      0.85       240\n",
      "weighted avg       0.85      0.85      0.85       240\n",
      "\n",
      "Accuracy on Training data for k 7 is 0.8625:\n",
      "Accuracy on Test data for k 7 is 0.8416666666666667:\n",
      "classification  Matrix:\n",
      "               precision    recall  f1-score   support\n",
      "\n",
      "         0.0       0.90      0.79      0.84       127\n",
      "         1.0       0.79      0.90      0.84       113\n",
      "\n",
      "    accuracy                           0.84       240\n",
      "   macro avg       0.85      0.85      0.84       240\n",
      "weighted avg       0.85      0.84      0.84       240\n",
      "\n",
      "Accuracy on Training data for k 9 is 0.8472222222222222:\n",
      "Accuracy on Test data for k 9 is 0.8291666666666667:\n",
      "classification  Matrix:\n",
      "               precision    recall  f1-score   support\n",
      "\n",
      "         0.0       0.88      0.78      0.83       127\n",
      "         1.0       0.78      0.88      0.83       113\n",
      "\n",
      "    accuracy                           0.83       240\n",
      "   macro avg       0.83      0.83      0.83       240\n",
      "weighted avg       0.84      0.83      0.83       240\n",
      "\n",
      "Accuracy on Training data for k 11 is 0.8402777777777778:\n",
      "Accuracy on Test data for k 11 is 0.8208333333333333:\n",
      "classification  Matrix:\n",
      "               precision    recall  f1-score   support\n",
      "\n",
      "         0.0       0.87      0.78      0.82       127\n",
      "         1.0       0.78      0.87      0.82       113\n",
      "\n",
      "    accuracy                           0.82       240\n",
      "   macro avg       0.82      0.82      0.82       240\n",
      "weighted avg       0.83      0.82      0.82       240\n",
      "\n",
      "Accuracy on Training data for k 12 is 0.8402777777777778:\n",
      "Accuracy on Test data for k 12 is 0.8083333333333333:\n",
      "classification  Matrix:\n",
      "               precision    recall  f1-score   support\n",
      "\n",
      "         0.0       0.81      0.83      0.82       127\n",
      "         1.0       0.80      0.79      0.79       113\n",
      "\n",
      "    accuracy                           0.81       240\n",
      "   macro avg       0.81      0.81      0.81       240\n",
      "weighted avg       0.81      0.81      0.81       240\n",
      "\n",
      "Accuracy on Training data for k 13 is 0.8375:\n",
      "Accuracy on Test data for k 13 is 0.7833333333333333:\n",
      "classification  Matrix:\n",
      "               precision    recall  f1-score   support\n",
      "\n",
      "         0.0       0.84      0.73      0.78       127\n",
      "         1.0       0.74      0.84      0.79       113\n",
      "\n",
      "    accuracy                           0.78       240\n",
      "   macro avg       0.79      0.79      0.78       240\n",
      "weighted avg       0.79      0.78      0.78       240\n",
      "\n"
     ]
    }
   ],
   "source": [
    "k=[1,3,5,7,9,11,12,13]\n",
    "for i in k:\n",
    "    KNN = KNeighborsClassifier(n_neighbors=i, metric = 'euclidean' ) #Building knn with 5 neighbors\n",
    "    KNN.fit(X_train, y_train)\n",
    "    predicted_labels = KNN.predict(X_test)\n",
    "    print('Accuracy on Training data for k {} is {}:'.format(i,KNN.score(X_train, y_train)))\n",
    "    print('Accuracy on Test data for k {} is {}:'.format(i,KNN.score(X_test, y_test)))\n",
    "    print(\"classification  Matrix:\\n\",classification_report(y_test,predicted_labels))"
   ]
  },
  {
   "cell_type": "markdown",
   "id": "a7ab7c2b",
   "metadata": {},
   "source": [
    "K= 1 is good but it will be overfit so we are taking K=3"
   ]
  },
  {
   "cell_type": "markdown",
   "id": "e6819938",
   "metadata": {},
   "source": [
    "## Print evaluation metrics for final model"
   ]
  },
  {
   "cell_type": "code",
   "execution_count": 68,
   "id": "61035a23",
   "metadata": {},
   "outputs": [
    {
     "name": "stdout",
     "output_type": "stream",
     "text": [
      "classification  Matrix:\n",
      "               precision    recall  f1-score   support\n",
      "\n",
      "         0.0       0.84      0.73      0.78       127\n",
      "         1.0       0.74      0.84      0.79       113\n",
      "\n",
      "    accuracy                           0.78       240\n",
      "   macro avg       0.79      0.79      0.78       240\n",
      "weighted avg       0.79      0.78      0.78       240\n",
      "\n"
     ]
    }
   ],
   "source": [
    "print(\"classification  Matrix:\\n\",classification_report(y_test,predicted_labels))"
   ]
  },
  {
   "cell_type": "markdown",
   "id": "1633757a",
   "metadata": {},
   "source": [
    "##  Share improvement achieved from base model to final model. "
   ]
  },
  {
   "cell_type": "markdown",
   "id": "094036c1",
   "metadata": {},
   "source": [
    " i would prefer to choose Logistic regression (balanced data)  as model."
   ]
  },
  {
   "cell_type": "markdown",
   "id": "e2afa011",
   "metadata": {},
   "source": [
    "Overfitting is less is Logistic regress"
   ]
  },
  {
   "cell_type": "markdown",
   "id": "13284495",
   "metadata": {},
   "source": [
    "precision & recall values are better predicting the protential customers"
   ]
  },
  {
   "cell_type": "code",
   "execution_count": null,
   "id": "99f23d88",
   "metadata": {},
   "outputs": [],
   "source": []
  }
 ],
 "metadata": {
  "kernelspec": {
   "display_name": "Python 3 (ipykernel)",
   "language": "python",
   "name": "python3"
  },
  "language_info": {
   "codemirror_mode": {
    "name": "ipython",
    "version": 3
   },
   "file_extension": ".py",
   "mimetype": "text/x-python",
   "name": "python",
   "nbconvert_exporter": "python",
   "pygments_lexer": "ipython3",
   "version": "3.9.12"
  }
 },
 "nbformat": 4,
 "nbformat_minor": 5
}
